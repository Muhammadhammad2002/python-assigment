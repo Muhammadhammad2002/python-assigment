{
 "cells": [
  {
   "cell_type": "code",
   "execution_count": 3,
   "metadata": {},
   "outputs": [
    {
     "name": "stdout",
     "output_type": "stream",
     "text": [
      "enter first value5\n",
      "enter second value2\n",
      "enter operator**\n",
      "25 answer\n"
     ]
    }
   ],
   "source": [
    "#question 1\n",
    "value1 = int(input(\"enter first value\"))\n",
    "value2 = int(input(\"enter second value\"))\n",
    "operator = input(\"enter operator\")\n",
    "\n",
    "if operator == \"+\":\n",
    "    value = value1 + value2\n",
    "    print(value,\"answer\")\n",
    "elif operator == \"-\":\n",
    "    value = value1 - value2\n",
    "    print(value,\"answer\")\n",
    "elif operator == \"*\":\n",
    "    value = value1 * value2\n",
    "    print(value,\"answer\")\n",
    "elif operator == \"/\":\n",
    "    value = value1 / value2\n",
    "    print(value,\"answer\")\n",
    "elif operator == \"**\":\n",
    "    value = value1 ** value2\n",
    "    print(value,\"answer\")\n",
    "else :\n",
    "    print(\"enter correct operator\")    \n",
    "    \n",
    "    "
   ]
  },
  {
   "cell_type": "code",
   "execution_count": 26,
   "metadata": {},
   "outputs": [],
   "source": [
    "#question 2\n"
   ]
  },
  {
   "cell_type": "code",
   "execution_count": 27,
   "metadata": {},
   "outputs": [
    {
     "name": "stdout",
     "output_type": "stream",
     "text": [
      "{'first name': 'muhammad', 'last name': 'hammad', 'email': 'abc@gmail.com'}\n"
     ]
    }
   ],
   "source": [
    "#question 3\n",
    "customer ={\"first name\" : \"muhammad\" , \"last name\" : \"hammad\"}\n",
    "customer.update({\"email\" : \"abc@gmail.com\"})\n",
    "print(customer)"
   ]
  },
  {
   "cell_type": "code",
   "execution_count": 16,
   "metadata": {},
   "outputs": [
    {
     "name": "stdout",
     "output_type": "stream",
     "text": [
      "401\n"
     ]
    }
   ],
   "source": [
    "#question 4\n",
    "my_dict = {'data1':100,'data2':54,'data3':247}\n",
    "print(sum(my_dict.values()))"
   ]
  },
  {
   "cell_type": "code",
   "execution_count": 25,
   "metadata": {},
   "outputs": [
    {
     "name": "stdout",
     "output_type": "stream",
     "text": [
      "{40, 10, 80, 50, 20, 60, 30}\n"
     ]
    }
   ],
   "source": [
    "#question 5\n",
    "a = [10,20,30,20,10,50,60,40,80,50,40]\n",
    "\n",
    "dup_items = set()\n",
    "uniq_items = []\n",
    "for x in a:\n",
    "    if x not in dup_items:\n",
    "        uniq_items.append(x)\n",
    "        dup_items.add(x)\n",
    "\n",
    "print(dup_items)"
   ]
  },
  {
   "cell_type": "code",
   "execution_count": 22,
   "metadata": {},
   "outputs": [
    {
     "name": "stdout",
     "output_type": "stream",
     "text": [
      "Dictionary :  {'a': 'apple', 'b': 'Banana', 'o': 'Orange', 'm': 'Mango'}\n",
      "Please enter the Key you want to search for: c\n",
      "\n",
      "Key Does not Exists in this Dictionary\n"
     ]
    }
   ],
   "source": [
    "#question 6\n",
    "myDict = {'a': 'apple', 'b': 'Banana' , 'o': 'Orange', 'm': 'Mango'}\n",
    "print(\"Dictionary : \", myDict)\n",
    "\n",
    "key = input(\"Please enter the Key you want to search for: \")\n",
    "\n",
    "if key in myDict.keys():\n",
    "    print(\"\\nKey Exists in this Dictionary\")\n",
    "    print(\"Key = \", key, \" and Value = \", myDict[key])\n",
    "else:\n",
    "    print(\"\\nKey Does not Exists in this Dictionary\")"
   ]
  },
  {
   "cell_type": "code",
   "execution_count": null,
   "metadata": {},
   "outputs": [],
   "source": []
  }
 ],
 "metadata": {
  "kernelspec": {
   "display_name": "Python 3",
   "language": "python",
   "name": "python3"
  },
  "language_info": {
   "codemirror_mode": {
    "name": "ipython",
    "version": 3
   },
   "file_extension": ".py",
   "mimetype": "text/x-python",
   "name": "python",
   "nbconvert_exporter": "python",
   "pygments_lexer": "ipython3",
   "version": "3.7.4"
  }
 },
 "nbformat": 4,
 "nbformat_minor": 2
}
