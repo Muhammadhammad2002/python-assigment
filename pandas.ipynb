{
 "cells": [
  {
   "cell_type": "code",
   "execution_count": 2,
   "metadata": {},
   "outputs": [
    {
     "data": {
      "text/plain": [
       "10    a\n",
       "11    b\n",
       "12    c\n",
       "14    d\n",
       "15    e\n",
       "dtype: object"
      ]
     },
     "execution_count": 2,
     "metadata": {},
     "output_type": "execute_result"
    }
   ],
   "source": [
    "import pandas as pd\n",
    "import numpy as np\n",
    "obj = pd.Series([\"a\", \"b\", \"c\", \"d\", \"e\"], index = [10,11,12,14,15])\n",
    "\n",
    "obj\n"
   ]
  },
  {
   "cell_type": "code",
   "execution_count": 3,
   "metadata": {},
   "outputs": [
    {
     "data": {
      "text/plain": [
       "S No.\n",
       "Id         400\n",
       "name    hammad\n",
       "age         15\n",
       "Name: Studentdata, dtype: object"
      ]
     },
     "execution_count": 3,
     "metadata": {},
     "output_type": "execute_result"
    }
   ],
   "source": [
    "obj22 = pd.Series({\"Id\": 4001, \"name\": \"hammad\", \"age\": 15})\n",
    "\n",
    "obj22\n",
    "\n",
    "obj22.index\n",
    "\n",
    "obj22.values\n",
    "\n",
    "obj22.name = \"Studentdata\"\n",
    "\n",
    "obj22.index.name = \"S No.\"\n",
    "\n",
    "obj22\n",
    "\n",
    "obj22[\"Id\"] = \"400\"\n",
    "\n",
    "obj22\n",
    "\n",
    "\n",
    "\n"
   ]
  },
  {
   "cell_type": "code",
   "execution_count": 4,
   "metadata": {},
   "outputs": [
    {
     "data": {
      "text/html": [
       "<div>\n",
       "<style scoped>\n",
       "    .dataframe tbody tr th:only-of-type {\n",
       "        vertical-align: middle;\n",
       "    }\n",
       "\n",
       "    .dataframe tbody tr th {\n",
       "        vertical-align: top;\n",
       "    }\n",
       "\n",
       "    .dataframe thead th {\n",
       "        text-align: right;\n",
       "    }\n",
       "</style>\n",
       "<table border=\"1\" class=\"dataframe\">\n",
       "  <thead>\n",
       "    <tr style=\"text-align: right;\">\n",
       "      <th></th>\n",
       "      <th>day</th>\n",
       "      <th>tem</th>\n",
       "      <th>wind</th>\n",
       "      <th>rain</th>\n",
       "    </tr>\n",
       "  </thead>\n",
       "  <tbody>\n",
       "    <tr>\n",
       "      <td>0</td>\n",
       "      <td>1</td>\n",
       "      <td>20</td>\n",
       "      <td>30</td>\n",
       "      <td>True</td>\n",
       "    </tr>\n",
       "    <tr>\n",
       "      <td>1</td>\n",
       "      <td>2</td>\n",
       "      <td>21</td>\n",
       "      <td>40</td>\n",
       "      <td>True</td>\n",
       "    </tr>\n",
       "    <tr>\n",
       "      <td>2</td>\n",
       "      <td>3</td>\n",
       "      <td>22</td>\n",
       "      <td>50</td>\n",
       "      <td>False</td>\n",
       "    </tr>\n",
       "    <tr>\n",
       "      <td>3</td>\n",
       "      <td>4</td>\n",
       "      <td>25</td>\n",
       "      <td>60</td>\n",
       "      <td>True</td>\n",
       "    </tr>\n",
       "    <tr>\n",
       "      <td>4</td>\n",
       "      <td>5</td>\n",
       "      <td>24</td>\n",
       "      <td>70</td>\n",
       "      <td>False</td>\n",
       "    </tr>\n",
       "  </tbody>\n",
       "</table>\n",
       "</div>"
      ],
      "text/plain": [
       "   day  tem  wind   rain\n",
       "0    1   20    30   True\n",
       "1    2   21    40   True\n",
       "2    3   22    50  False\n",
       "3    4   25    60   True\n",
       "4    5   24    70  False"
      ]
     },
     "execution_count": 4,
     "metadata": {},
     "output_type": "execute_result"
    }
   ],
   "source": [
    "frame11 = pd.DataFrame({\n",
    "    \"day\": [1,2,3,4,5],\n",
    "    \"tem\": [20,21,22,25,24],\n",
    "    \"wind\": [30,40,50,60,70],\n",
    "    \"rain\": [True,True,False,True,False]\n",
    "})\n",
    "\n",
    "frame11\n"
   ]
  },
  {
   "cell_type": "code",
   "execution_count": 8,
   "metadata": {},
   "outputs": [
    {
     "data": {
      "text/html": [
       "<div>\n",
       "<style scoped>\n",
       "    .dataframe tbody tr th:only-of-type {\n",
       "        vertical-align: middle;\n",
       "    }\n",
       "\n",
       "    .dataframe tbody tr th {\n",
       "        vertical-align: top;\n",
       "    }\n",
       "\n",
       "    .dataframe thead th {\n",
       "        text-align: right;\n",
       "    }\n",
       "</style>\n",
       "<table border=\"1\" class=\"dataframe\">\n",
       "  <thead>\n",
       "    <tr style=\"text-align: right;\">\n",
       "      <th></th>\n",
       "      <th>day</th>\n",
       "      <th>temp</th>\n",
       "      <th>wind</th>\n",
       "      <th>rain</th>\n",
       "    </tr>\n",
       "  </thead>\n",
       "  <tbody>\n",
       "    <tr>\n",
       "      <td>0</td>\n",
       "      <td>1</td>\n",
       "      <td>20</td>\n",
       "      <td>50</td>\n",
       "      <td>True</td>\n",
       "    </tr>\n",
       "    <tr>\n",
       "      <td>1</td>\n",
       "      <td>2</td>\n",
       "      <td>50</td>\n",
       "      <td>20</td>\n",
       "      <td>False</td>\n",
       "    </tr>\n",
       "    <tr>\n",
       "      <td>2</td>\n",
       "      <td>3</td>\n",
       "      <td>40</td>\n",
       "      <td>50</td>\n",
       "      <td>True</td>\n",
       "    </tr>\n",
       "    <tr>\n",
       "      <td>3</td>\n",
       "      <td>4</td>\n",
       "      <td>30</td>\n",
       "      <td>50</td>\n",
       "      <td>True</td>\n",
       "    </tr>\n",
       "    <tr>\n",
       "      <td>4</td>\n",
       "      <td>5</td>\n",
       "      <td>10</td>\n",
       "      <td>20</td>\n",
       "      <td>True</td>\n",
       "    </tr>\n",
       "  </tbody>\n",
       "</table>\n",
       "</div>"
      ],
      "text/plain": [
       "   day  temp  wind   rain\n",
       "0    1    20    50   True\n",
       "1    2    50    20  False\n",
       "2    3    40    50   True\n",
       "3    4    30    50   True\n",
       "4    5    10    20   True"
      ]
     },
     "execution_count": 8,
     "metadata": {},
     "output_type": "execute_result"
    }
   ],
   "source": [
    "frame12 = pd.DataFrame ([\n",
    "    {\"day\": 1, \"temp\": 20, \"wind\": 50, \"rain\": True},\n",
    "    {\"day\": 2, \"temp\": 50, \"wind\": 20, \"rain\": False},\n",
    "    {\"day\": 3, \"temp\": 40, \"wind\": 50, \"rain\": True},\n",
    "    {\"day\": 4, \"temp\": 30, \"wind\": 50, \"rain\": True},\n",
    "    {\"day\": 5, \"temp\": 10, \"wind\": 20, \"rain\": True},\n",
    "])\n",
    "\n",
    "frame12"
   ]
  },
  {
   "cell_type": "code",
   "execution_count": 6,
   "metadata": {},
   "outputs": [
    {
     "data": {
      "text/html": [
       "<div>\n",
       "<style scoped>\n",
       "    .dataframe tbody tr th:only-of-type {\n",
       "        vertical-align: middle;\n",
       "    }\n",
       "\n",
       "    .dataframe tbody tr th {\n",
       "        vertical-align: top;\n",
       "    }\n",
       "\n",
       "    .dataframe thead th {\n",
       "        text-align: right;\n",
       "    }\n",
       "</style>\n",
       "<table border=\"1\" class=\"dataframe\">\n",
       "  <thead>\n",
       "    <tr style=\"text-align: right;\">\n",
       "      <th></th>\n",
       "      <th>day</th>\n",
       "      <th>tem</th>\n",
       "      <th>wind</th>\n",
       "    </tr>\n",
       "  </thead>\n",
       "  <tbody>\n",
       "    <tr>\n",
       "      <td>0</td>\n",
       "      <td>1</td>\n",
       "      <td>33</td>\n",
       "      <td>25</td>\n",
       "    </tr>\n",
       "    <tr>\n",
       "      <td>1</td>\n",
       "      <td>1</td>\n",
       "      <td>32</td>\n",
       "      <td>24</td>\n",
       "    </tr>\n",
       "    <tr>\n",
       "      <td>2</td>\n",
       "      <td>1</td>\n",
       "      <td>31</td>\n",
       "      <td>27</td>\n",
       "    </tr>\n",
       "  </tbody>\n",
       "</table>\n",
       "</div>"
      ],
      "text/plain": [
       "   day  tem  wind\n",
       "0    1   33    25\n",
       "1    1   32    24\n",
       "2    1   31    27"
      ]
     },
     "execution_count": 6,
     "metadata": {},
     "output_type": "execute_result"
    }
   ],
   "source": [
    "frame13 = pd.DataFrame ([\n",
    "    (1,33,25),\n",
    "    (1,32,24),\n",
    "    (1,31,27),\n",
    "], columns = [\"day\", \"tem\", \"wind\"])\n",
    "\n",
    "frame13\n"
   ]
  },
  {
   "cell_type": "code",
   "execution_count": null,
   "metadata": {},
   "outputs": [],
   "source": [
    "#from excel file s data frame bnate hai\n",
    "\n",
    "frame14 = pd.read_excel(\"weater.xlsx\")\n",
    "\n",
    "frame14"
   ]
  },
  {
   "cell_type": "code",
   "execution_count": null,
   "metadata": {},
   "outputs": [],
   "source": [
    "frame14 = pd.read_csv(\"weater.csv\")\n",
    "\n",
    "frame14"
   ]
  },
  {
   "cell_type": "code",
   "execution_count": null,
   "metadata": {},
   "outputs": [],
   "source": [
    "#apnamdata excel bnana\n",
    "\n",
    "frame11.to_excel(\"studentdata.xlxs\", sheet_name = \"sheet1\")\n",
    "\n",
    "frame11"
   ]
  },
  {
   "cell_type": "code",
   "execution_count": 13,
   "metadata": {},
   "outputs": [
    {
     "data": {
      "text/plain": [
       "RangeIndex(start=0, stop=5, step=1)"
      ]
     },
     "execution_count": 13,
     "metadata": {},
     "output_type": "execute_result"
    }
   ],
   "source": [
    "frame12 = pd.DataFrame ([\n",
    "    {\"day\": 1, \"temp\": 20, \"wind\": 50, \"rain\": True},\n",
    "    {\"day\": 2, \"temp\": 50, \"wind\": 20, \"rain\": False},\n",
    "    {\"day\": 3, \"temp\": 40, \"wind\": 50, \"rain\": True},\n",
    "    {\"day\": 4, \"temp\": 30, \"wind\": 50, \"rain\": True},\n",
    "    {\"day\": 5, \"temp\": 10, \"wind\": 20, \"rain\": True},\n",
    "])\n",
    "\n",
    "frame12[[\"day\", \"temp\"]]\n"
   ]
  },
  {
   "cell_type": "code",
   "execution_count": 14,
   "metadata": {},
   "outputs": [
    {
     "data": {
      "text/plain": [
       "RangeIndex(start=0, stop=5, step=1)"
      ]
     },
     "execution_count": 14,
     "metadata": {},
     "output_type": "execute_result"
    }
   ],
   "source": [
    "frame12 = pd.DataFrame ([\n",
    "    {\"day\": 1, \"temp\": 20, \"wind\": 50, \"rain\": True},\n",
    "    {\"day\": 2, \"temp\": 50, \"wind\": 20, \"rain\": False},\n",
    "    {\"day\": 3, \"temp\": 40, \"wind\": 50, \"rain\": True},\n",
    "    {\"day\": 4, \"temp\": 30, \"wind\": 50, \"rain\": True},\n",
    "    {\"day\": 5, \"temp\": 10, \"wind\": 20, \"rain\": True},\n",
    "])\n",
    "\n",
    "frame12.index"
   ]
  },
  {
   "cell_type": "code",
   "execution_count": 16,
   "metadata": {},
   "outputs": [
    {
     "data": {
      "text/html": [
       "<div>\n",
       "<style scoped>\n",
       "    .dataframe tbody tr th:only-of-type {\n",
       "        vertical-align: middle;\n",
       "    }\n",
       "\n",
       "    .dataframe tbody tr th {\n",
       "        vertical-align: top;\n",
       "    }\n",
       "\n",
       "    .dataframe thead th {\n",
       "        text-align: right;\n",
       "    }\n",
       "</style>\n",
       "<table border=\"1\" class=\"dataframe\">\n",
       "  <thead>\n",
       "    <tr style=\"text-align: right;\">\n",
       "      <th></th>\n",
       "      <th>day</th>\n",
       "      <th>temp</th>\n",
       "      <th>wind</th>\n",
       "      <th>rain</th>\n",
       "    </tr>\n",
       "  </thead>\n",
       "  <tbody>\n",
       "    <tr>\n",
       "      <td>0</td>\n",
       "      <td>1</td>\n",
       "      <td>20</td>\n",
       "      <td>50</td>\n",
       "      <td>True</td>\n",
       "    </tr>\n",
       "    <tr>\n",
       "      <td>1</td>\n",
       "      <td>2</td>\n",
       "      <td>50</td>\n",
       "      <td>20</td>\n",
       "      <td>False</td>\n",
       "    </tr>\n",
       "    <tr>\n",
       "      <td>2</td>\n",
       "      <td>3</td>\n",
       "      <td>40</td>\n",
       "      <td>50</td>\n",
       "      <td>True</td>\n",
       "    </tr>\n",
       "  </tbody>\n",
       "</table>\n",
       "</div>"
      ],
      "text/plain": [
       "   day  temp  wind   rain\n",
       "0    1    20    50   True\n",
       "1    2    50    20  False\n",
       "2    3    40    50   True"
      ]
     },
     "execution_count": 16,
     "metadata": {},
     "output_type": "execute_result"
    }
   ],
   "source": [
    "frame12 = pd.DataFrame ([\n",
    "    {\"day\": 1, \"temp\": 20, \"wind\": 50, \"rain\": True},\n",
    "    {\"day\": 2, \"temp\": 50, \"wind\": 20, \"rain\": False},\n",
    "    {\"day\": 3, \"temp\": 40, \"wind\": 50, \"rain\": True},\n",
    "    {\"day\": 4, \"temp\": 30, \"wind\": 50, \"rain\": True},\n",
    "    {\"day\": 5, \"temp\": 10, \"wind\": 20, \"rain\": True},\n",
    "])\n",
    "\n",
    "frame12.head(3)"
   ]
  },
  {
   "cell_type": "code",
   "execution_count": 21,
   "metadata": {},
   "outputs": [
    {
     "data": {
      "text/html": [
       "<div>\n",
       "<style scoped>\n",
       "    .dataframe tbody tr th:only-of-type {\n",
       "        vertical-align: middle;\n",
       "    }\n",
       "\n",
       "    .dataframe tbody tr th {\n",
       "        vertical-align: top;\n",
       "    }\n",
       "\n",
       "    .dataframe thead th {\n",
       "        text-align: right;\n",
       "    }\n",
       "</style>\n",
       "<table border=\"1\" class=\"dataframe\">\n",
       "  <thead>\n",
       "    <tr style=\"text-align: right;\">\n",
       "      <th></th>\n",
       "      <th>day</th>\n",
       "      <th>temp</th>\n",
       "      <th>wind</th>\n",
       "      <th>rain</th>\n",
       "    </tr>\n",
       "  </thead>\n",
       "  <tbody>\n",
       "    <tr>\n",
       "      <td>3</td>\n",
       "      <td>4</td>\n",
       "      <td>30</td>\n",
       "      <td>50</td>\n",
       "      <td>True</td>\n",
       "    </tr>\n",
       "    <tr>\n",
       "      <td>4</td>\n",
       "      <td>5</td>\n",
       "      <td>10</td>\n",
       "      <td>20</td>\n",
       "      <td>True</td>\n",
       "    </tr>\n",
       "  </tbody>\n",
       "</table>\n",
       "</div>"
      ],
      "text/plain": [
       "   day  temp  wind  rain\n",
       "3    4    30    50  True\n",
       "4    5    10    20  True"
      ]
     },
     "execution_count": 21,
     "metadata": {},
     "output_type": "execute_result"
    }
   ],
   "source": [
    "frame12 = pd.DataFrame ([\n",
    "    {\"day\": 1, \"temp\": 20, \"wind\": 50, \"rain\": True},\n",
    "    {\"day\": 2, \"temp\": 50, \"wind\": 20, \"rain\": False},\n",
    "    {\"day\": 3, \"temp\": 40, \"wind\": 50, \"rain\": True},\n",
    "    {\"day\": 4, \"temp\": 30, \"wind\": 50, \"rain\": True},\n",
    "    {\"day\": 5, \"temp\": 10, \"wind\": 20, \"rain\": True},\n",
    "])\n",
    "\n",
    "frame12.tail(2)"
   ]
  },
  {
   "cell_type": "code",
   "execution_count": 22,
   "metadata": {},
   "outputs": [
    {
     "data": {
      "text/plain": [
       "Index(['day', 'temp', 'wind', 'rain'], dtype='object')"
      ]
     },
     "execution_count": 22,
     "metadata": {},
     "output_type": "execute_result"
    }
   ],
   "source": [
    "frame12 = pd.DataFrame ([\n",
    "    {\"day\": 1, \"temp\": 20, \"wind\": 50, \"rain\": True},\n",
    "    {\"day\": 2, \"temp\": 50, \"wind\": 20, \"rain\": False},\n",
    "    {\"day\": 3, \"temp\": 40, \"wind\": 50, \"rain\": True},\n",
    "    {\"day\": 4, \"temp\": 30, \"wind\": 50, \"rain\": True},\n",
    "    {\"day\": 5, \"temp\": 10, \"wind\": 20, \"rain\": True},\n",
    "])\n",
    "\n",
    "frame12.columns"
   ]
  },
  {
   "cell_type": "code",
   "execution_count": 23,
   "metadata": {},
   "outputs": [
    {
     "data": {
      "text/plain": [
       "0    20\n",
       "1    50\n",
       "2    40\n",
       "3    30\n",
       "4    10\n",
       "Name: temp, dtype: int64"
      ]
     },
     "execution_count": 23,
     "metadata": {},
     "output_type": "execute_result"
    }
   ],
   "source": [
    "frame12 = pd.DataFrame ([\n",
    "    {\"day\": 1, \"temp\": 20, \"wind\": 50, \"rain\": True},\n",
    "    {\"day\": 2, \"temp\": 50, \"wind\": 20, \"rain\": False},\n",
    "    {\"day\": 3, \"temp\": 40, \"wind\": 50, \"rain\": True},\n",
    "    {\"day\": 4, \"temp\": 30, \"wind\": 50, \"rain\": True},\n",
    "    {\"day\": 5, \"temp\": 10, \"wind\": 20, \"rain\": True},\n",
    "])\n",
    "\n",
    "frame12[\"temp\"]"
   ]
  },
  {
   "cell_type": "code",
   "execution_count": 25,
   "metadata": {},
   "outputs": [
    {
     "data": {
      "text/plain": [
       "50"
      ]
     },
     "execution_count": 25,
     "metadata": {},
     "output_type": "execute_result"
    }
   ],
   "source": [
    "frame12 = pd.DataFrame ([\n",
    "    {\"day\": 1, \"temp\": 20, \"wind\": 50, \"rain\": True},\n",
    "    {\"day\": 2, \"temp\": 50, \"wind\": 20, \"rain\": False},\n",
    "    {\"day\": 3, \"temp\": 40, \"wind\": 50, \"rain\": True},\n",
    "    {\"day\": 4, \"temp\": 30, \"wind\": 50, \"rain\": True},\n",
    "    {\"day\": 5, \"temp\": 10, \"wind\": 20, \"rain\": True},\n",
    "])\n",
    "\n",
    "frame12[\"temp\"].max()"
   ]
  },
  {
   "cell_type": "code",
   "execution_count": 26,
   "metadata": {},
   "outputs": [
    {
     "data": {
      "text/plain": [
       "10"
      ]
     },
     "execution_count": 26,
     "metadata": {},
     "output_type": "execute_result"
    }
   ],
   "source": [
    "frame12 = pd.DataFrame ([\n",
    "    {\"day\": 1, \"temp\": 20, \"wind\": 50, \"rain\": True},\n",
    "    {\"day\": 2, \"temp\": 50, \"wind\": 20, \"rain\": False},\n",
    "    {\"day\": 3, \"temp\": 40, \"wind\": 50, \"rain\": True},\n",
    "    {\"day\": 4, \"temp\": 30, \"wind\": 50, \"rain\": True},\n",
    "    {\"day\": 5, \"temp\": 10, \"wind\": 20, \"rain\": True},\n",
    "])\n",
    "\n",
    "frame12[\"temp\"].min()"
   ]
  },
  {
   "cell_type": "code",
   "execution_count": 27,
   "metadata": {},
   "outputs": [
    {
     "data": {
      "text/plain": [
       "30.0"
      ]
     },
     "execution_count": 27,
     "metadata": {},
     "output_type": "execute_result"
    }
   ],
   "source": [
    "frame12 = pd.DataFrame ([\n",
    "    {\"day\": 1, \"temp\": 20, \"wind\": 50, \"rain\": True},\n",
    "    {\"day\": 2, \"temp\": 50, \"wind\": 20, \"rain\": False},\n",
    "    {\"day\": 3, \"temp\": 40, \"wind\": 50, \"rain\": True},\n",
    "    {\"day\": 4, \"temp\": 30, \"wind\": 50, \"rain\": True},\n",
    "    {\"day\": 5, \"temp\": 10, \"wind\": 20, \"rain\": True},\n",
    "])\n",
    "\n",
    "frame12[\"temp\"].mean()"
   ]
  },
  {
   "cell_type": "code",
   "execution_count": 28,
   "metadata": {},
   "outputs": [
    {
     "data": {
      "text/html": [
       "<div>\n",
       "<style scoped>\n",
       "    .dataframe tbody tr th:only-of-type {\n",
       "        vertical-align: middle;\n",
       "    }\n",
       "\n",
       "    .dataframe tbody tr th {\n",
       "        vertical-align: top;\n",
       "    }\n",
       "\n",
       "    .dataframe thead th {\n",
       "        text-align: right;\n",
       "    }\n",
       "</style>\n",
       "<table border=\"1\" class=\"dataframe\">\n",
       "  <thead>\n",
       "    <tr style=\"text-align: right;\">\n",
       "      <th></th>\n",
       "      <th>day</th>\n",
       "      <th>temp</th>\n",
       "      <th>wind</th>\n",
       "    </tr>\n",
       "  </thead>\n",
       "  <tbody>\n",
       "    <tr>\n",
       "      <td>count</td>\n",
       "      <td>5.000000</td>\n",
       "      <td>5.000000</td>\n",
       "      <td>5.000000</td>\n",
       "    </tr>\n",
       "    <tr>\n",
       "      <td>mean</td>\n",
       "      <td>3.000000</td>\n",
       "      <td>30.000000</td>\n",
       "      <td>38.000000</td>\n",
       "    </tr>\n",
       "    <tr>\n",
       "      <td>std</td>\n",
       "      <td>1.581139</td>\n",
       "      <td>15.811388</td>\n",
       "      <td>16.431677</td>\n",
       "    </tr>\n",
       "    <tr>\n",
       "      <td>min</td>\n",
       "      <td>1.000000</td>\n",
       "      <td>10.000000</td>\n",
       "      <td>20.000000</td>\n",
       "    </tr>\n",
       "    <tr>\n",
       "      <td>25%</td>\n",
       "      <td>2.000000</td>\n",
       "      <td>20.000000</td>\n",
       "      <td>20.000000</td>\n",
       "    </tr>\n",
       "    <tr>\n",
       "      <td>50%</td>\n",
       "      <td>3.000000</td>\n",
       "      <td>30.000000</td>\n",
       "      <td>50.000000</td>\n",
       "    </tr>\n",
       "    <tr>\n",
       "      <td>75%</td>\n",
       "      <td>4.000000</td>\n",
       "      <td>40.000000</td>\n",
       "      <td>50.000000</td>\n",
       "    </tr>\n",
       "    <tr>\n",
       "      <td>max</td>\n",
       "      <td>5.000000</td>\n",
       "      <td>50.000000</td>\n",
       "      <td>50.000000</td>\n",
       "    </tr>\n",
       "  </tbody>\n",
       "</table>\n",
       "</div>"
      ],
      "text/plain": [
       "            day       temp       wind\n",
       "count  5.000000   5.000000   5.000000\n",
       "mean   3.000000  30.000000  38.000000\n",
       "std    1.581139  15.811388  16.431677\n",
       "min    1.000000  10.000000  20.000000\n",
       "25%    2.000000  20.000000  20.000000\n",
       "50%    3.000000  30.000000  50.000000\n",
       "75%    4.000000  40.000000  50.000000\n",
       "max    5.000000  50.000000  50.000000"
      ]
     },
     "execution_count": 28,
     "metadata": {},
     "output_type": "execute_result"
    }
   ],
   "source": [
    "frame12 = pd.DataFrame ([\n",
    "    {\"day\": 1, \"temp\": 20, \"wind\": 50, \"rain\": True},\n",
    "    {\"day\": 2, \"temp\": 50, \"wind\": 20, \"rain\": False},\n",
    "    {\"day\": 3, \"temp\": 40, \"wind\": 50, \"rain\": True},\n",
    "    {\"day\": 4, \"temp\": 30, \"wind\": 50, \"rain\": True},\n",
    "    {\"day\": 5, \"temp\": 10, \"wind\": 20, \"rain\": True},\n",
    "])\n",
    "\n",
    "frame12.describe()"
   ]
  },
  {
   "cell_type": "code",
   "execution_count": 29,
   "metadata": {},
   "outputs": [
    {
     "data": {
      "text/plain": [
       "day        5\n",
       "temp      10\n",
       "wind      20\n",
       "rain    True\n",
       "Name: 4, dtype: object"
      ]
     },
     "execution_count": 29,
     "metadata": {},
     "output_type": "execute_result"
    }
   ],
   "source": [
    "frame12 = pd.DataFrame ([\n",
    "    {\"day\": 1, \"temp\": 20, \"wind\": 50, \"rain\": True},\n",
    "    {\"day\": 2, \"temp\": 50, \"wind\": 20, \"rain\": False},\n",
    "    {\"day\": 3, \"temp\": 40, \"wind\": 50, \"rain\": True},\n",
    "    {\"day\": 4, \"temp\": 30, \"wind\": 50, \"rain\": True},\n",
    "    {\"day\": 5, \"temp\": 10, \"wind\": 20, \"rain\": True},\n",
    "])\n",
    "\n",
    "frame12.loc[4]"
   ]
  },
  {
   "cell_type": "code",
   "execution_count": 33,
   "metadata": {},
   "outputs": [
    {
     "data": {
      "text/html": [
       "<div>\n",
       "<style scoped>\n",
       "    .dataframe tbody tr th:only-of-type {\n",
       "        vertical-align: middle;\n",
       "    }\n",
       "\n",
       "    .dataframe tbody tr th {\n",
       "        vertical-align: top;\n",
       "    }\n",
       "\n",
       "    .dataframe thead th {\n",
       "        text-align: right;\n",
       "    }\n",
       "</style>\n",
       "<table border=\"1\" class=\"dataframe\">\n",
       "  <thead>\n",
       "    <tr style=\"text-align: right;\">\n",
       "      <th></th>\n",
       "      <th>0</th>\n",
       "      <th>1</th>\n",
       "      <th>2</th>\n",
       "      <th>3</th>\n",
       "      <th>4</th>\n",
       "    </tr>\n",
       "  </thead>\n",
       "  <tbody>\n",
       "    <tr>\n",
       "      <td>day</td>\n",
       "      <td>1</td>\n",
       "      <td>2</td>\n",
       "      <td>3</td>\n",
       "      <td>4</td>\n",
       "      <td>5</td>\n",
       "    </tr>\n",
       "    <tr>\n",
       "      <td>temp</td>\n",
       "      <td>20</td>\n",
       "      <td>50</td>\n",
       "      <td>40</td>\n",
       "      <td>30</td>\n",
       "      <td>10</td>\n",
       "    </tr>\n",
       "    <tr>\n",
       "      <td>wind</td>\n",
       "      <td>50</td>\n",
       "      <td>20</td>\n",
       "      <td>50</td>\n",
       "      <td>50</td>\n",
       "      <td>20</td>\n",
       "    </tr>\n",
       "    <tr>\n",
       "      <td>rain</td>\n",
       "      <td>True</td>\n",
       "      <td>False</td>\n",
       "      <td>True</td>\n",
       "      <td>True</td>\n",
       "      <td>True</td>\n",
       "    </tr>\n",
       "  </tbody>\n",
       "</table>\n",
       "</div>"
      ],
      "text/plain": [
       "         0      1     2     3     4\n",
       "day      1      2     3     4     5\n",
       "temp    20     50    40    30    10\n",
       "wind    50     20    50    50    20\n",
       "rain  True  False  True  True  True"
      ]
     },
     "execution_count": 33,
     "metadata": {},
     "output_type": "execute_result"
    }
   ],
   "source": [
    "frame12 = pd.DataFrame ([\n",
    "    {\"day\": 1, \"temp\": 20, \"wind\": 50, \"rain\": True},\n",
    "    {\"day\": 2, \"temp\": 50, \"wind\": 20, \"rain\": False},\n",
    "    {\"day\": 3, \"temp\": 40, \"wind\": 50, \"rain\": True},\n",
    "    {\"day\": 4, \"temp\": 30, \"wind\": 50, \"rain\": True},\n",
    "    {\"day\": 5, \"temp\": 10, \"wind\": 20, \"rain\": True},\n",
    "])\n",
    "\n",
    "frame12.T"
   ]
  },
  {
   "cell_type": "code",
   "execution_count": 37,
   "metadata": {},
   "outputs": [
    {
     "data": {
      "text/html": [
       "<div>\n",
       "<style scoped>\n",
       "    .dataframe tbody tr th:only-of-type {\n",
       "        vertical-align: middle;\n",
       "    }\n",
       "\n",
       "    .dataframe tbody tr th {\n",
       "        vertical-align: top;\n",
       "    }\n",
       "\n",
       "    .dataframe thead th {\n",
       "        text-align: right;\n",
       "    }\n",
       "</style>\n",
       "<table border=\"1\" class=\"dataframe\">\n",
       "  <thead>\n",
       "    <tr style=\"text-align: right;\">\n",
       "      <th></th>\n",
       "      <th>temp</th>\n",
       "      <th>wind</th>\n",
       "    </tr>\n",
       "  </thead>\n",
       "  <tbody>\n",
       "    <tr>\n",
       "      <td>0</td>\n",
       "      <td>20</td>\n",
       "      <td>50</td>\n",
       "    </tr>\n",
       "    <tr>\n",
       "      <td>2</td>\n",
       "      <td>40</td>\n",
       "      <td>50</td>\n",
       "    </tr>\n",
       "    <tr>\n",
       "      <td>3</td>\n",
       "      <td>30</td>\n",
       "      <td>50</td>\n",
       "    </tr>\n",
       "    <tr>\n",
       "      <td>4</td>\n",
       "      <td>10</td>\n",
       "      <td>20</td>\n",
       "    </tr>\n",
       "  </tbody>\n",
       "</table>\n",
       "</div>"
      ],
      "text/plain": [
       "   temp  wind\n",
       "0    20    50\n",
       "2    40    50\n",
       "3    30    50\n",
       "4    10    20"
      ]
     },
     "execution_count": 37,
     "metadata": {},
     "output_type": "execute_result"
    }
   ],
   "source": [
    "frame12 = pd.DataFrame ([\n",
    "    {\"day\": 1, \"temp\": 20, \"wind\": 50, \"rain\": True},\n",
    "    {\"day\": 2, \"temp\": 50, \"wind\": 20, \"rain\": False},\n",
    "    {\"day\": 3, \"temp\": 40, \"wind\": 50, \"rain\": True},\n",
    "    {\"day\": 4, \"temp\": 30, \"wind\": 50, \"rain\": True},\n",
    "    {\"day\": 5, \"temp\": 10, \"wind\": 20, \"rain\": True},\n",
    "])\n",
    "\n",
    "frame12[[\"temp\",\"wind\"]][frame12[\"rain\"] == True]"
   ]
  },
  {
   "cell_type": "code",
   "execution_count": 38,
   "metadata": {},
   "outputs": [
    {
     "data": {
      "text/html": [
       "<div>\n",
       "<style scoped>\n",
       "    .dataframe tbody tr th:only-of-type {\n",
       "        vertical-align: middle;\n",
       "    }\n",
       "\n",
       "    .dataframe tbody tr th {\n",
       "        vertical-align: top;\n",
       "    }\n",
       "\n",
       "    .dataframe thead th {\n",
       "        text-align: right;\n",
       "    }\n",
       "</style>\n",
       "<table border=\"1\" class=\"dataframe\">\n",
       "  <thead>\n",
       "    <tr style=\"text-align: right;\">\n",
       "      <th></th>\n",
       "      <th>day</th>\n",
       "      <th>temp</th>\n",
       "      <th>wind</th>\n",
       "      <th>rain</th>\n",
       "    </tr>\n",
       "  </thead>\n",
       "  <tbody>\n",
       "    <tr>\n",
       "      <td>1</td>\n",
       "      <td>2</td>\n",
       "      <td>50</td>\n",
       "      <td>20</td>\n",
       "      <td>False</td>\n",
       "    </tr>\n",
       "    <tr>\n",
       "      <td>2</td>\n",
       "      <td>3</td>\n",
       "      <td>40</td>\n",
       "      <td>50</td>\n",
       "      <td>True</td>\n",
       "    </tr>\n",
       "    <tr>\n",
       "      <td>3</td>\n",
       "      <td>4</td>\n",
       "      <td>30</td>\n",
       "      <td>50</td>\n",
       "      <td>True</td>\n",
       "    </tr>\n",
       "  </tbody>\n",
       "</table>\n",
       "</div>"
      ],
      "text/plain": [
       "   day  temp  wind   rain\n",
       "1    2    50    20  False\n",
       "2    3    40    50   True\n",
       "3    4    30    50   True"
      ]
     },
     "execution_count": 38,
     "metadata": {},
     "output_type": "execute_result"
    }
   ],
   "source": [
    "frame12 = pd.DataFrame ([\n",
    "    {\"day\": 1, \"temp\": 20, \"wind\": 50, \"rain\": True},\n",
    "    {\"day\": 2, \"temp\": 50, \"wind\": 20, \"rain\": False},\n",
    "    {\"day\": 3, \"temp\": 40, \"wind\": 50, \"rain\": True},\n",
    "    {\"day\": 4, \"temp\": 30, \"wind\": 50, \"rain\": True},\n",
    "    {\"day\": 5, \"temp\": 10, \"wind\": 20, \"rain\": True},\n",
    "])\n",
    "\n",
    "frame12[frame12[\"temp\"] > 21]"
   ]
  },
  {
   "cell_type": "code",
   "execution_count": 43,
   "metadata": {},
   "outputs": [
    {
     "data": {
      "text/plain": [
       "0    20\n",
       "2    40\n",
       "3    30\n",
       "4    10\n",
       "Name: temp, dtype: int64"
      ]
     },
     "execution_count": 43,
     "metadata": {},
     "output_type": "execute_result"
    }
   ],
   "source": [
    "frame12 = pd.DataFrame ([\n",
    "    {\"day\": 1, \"temp\": 20, \"wind\": 50, \"rain\": True},\n",
    "    {\"day\": 2, \"temp\": 50, \"wind\": 20, \"rain\": False},\n",
    "    {\"day\": 3, \"temp\": 40, \"wind\": 50, \"rain\": True},\n",
    "    {\"day\": 4, \"temp\": 30, \"wind\": 50, \"rain\": True},\n",
    "    {\"day\": 5, \"temp\": 10, \"wind\": 20, \"rain\": True},\n",
    "])\n",
    "\n",
    "frame12[\"temp\"][frame12[\"rain\"] == True]"
   ]
  },
  {
   "cell_type": "code",
   "execution_count": null,
   "metadata": {},
   "outputs": [],
   "source": []
  }
 ],
 "metadata": {
  "kernelspec": {
   "display_name": "Python 3",
   "language": "python",
   "name": "python3"
  },
  "language_info": {
   "codemirror_mode": {
    "name": "ipython",
    "version": 3
   },
   "file_extension": ".py",
   "mimetype": "text/x-python",
   "name": "python",
   "nbconvert_exporter": "python",
   "pygments_lexer": "ipython3",
   "version": "3.7.4"
  }
 },
 "nbformat": 4,
 "nbformat_minor": 2
}
