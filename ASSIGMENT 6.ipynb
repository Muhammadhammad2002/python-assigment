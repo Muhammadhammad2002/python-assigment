{
 "cells": [
  {
   "cell_type": "markdown",
   "metadata": {},
   "source": [
    "#question 1\n",
    "Object-oriented Programming, or OOP for short, is a programming paradigm which provides a means of structuring programs so       \n",
    "\n",
    "that properties and behaviors are bundled into individual objects.For instance, an object could represent a person with a\n",
    "\n",
    "name property,age,address,etc.,with behaviors like walking,talking,breathing,and running. Or an email with properties like\n",
    "\n",
    "recipient list, subject, body, etc., and behaviors like adding attachments and sending."
   ]
  },
  {
   "cell_type": "markdown",
   "metadata": {},
   "source": [
    "#question 2\n",
    "Benefits of OOPS:\n",
    "\n",
    "1.OOP offers easy to understand and a clear modular structure for programs.\n",
    "2.Objects created for Object-Oriented Programs can be reused in other programs.Thus it saves significant development cost.\n",
    "3.Large programs are difficult to write, but if the development and designing team follow OOPS concept then they can better design with minimum flaws.\n",
    "4.It also enhances program modularity because every object exists independently.\n",
    "5.It is possible to map objects in the problem domain to those objects in the program.Message passing technique for commun-ication between objects make the interface descriptions with external system much simpler \n",
    "6.Software complexity can easily be managed"
   ]
  },
  {
   "cell_type": "markdown",
   "metadata": {},
   "source": [
    "#question 3\n",
    "\n",
    "difference between method and function\n",
    "                                       method\n",
    " 1.Method is called by its name but it is associated to an object(dependent)\n",
    " 2.a method is implicity passed the object on which it is involved\n",
    " 3.it may or may not return any  data\n",
    " 4.thod can operate on the data (instance variable)that is contained by the corresponding class\"\n",
    "                                       function\n",
    "1.function is block of a code that is also called by its name(independent)\n",
    "2.the function can have different parameters or may not have any at all.if any data(parameters) are passed they are passed explicity\n",
    "3.it may or may not return any  data\n",
    "4.function does not deal with class and its instance concept"
   ]
  },
  {
   "cell_type": "markdown",
   "metadata": {},
   "source": [
    "#question 4 \n",
    "\n",
    "class:\n",
    "      a class describes the contents of the objects that belong to it: it describes an aggregate of data fields (called instance variables), and defines the operations (called methods).\n",
    "      \n",
    "object:\n",
    "      an object is an element (or instance) of a class; objects have the behaviors of their  class.   The object is the actual component of programs, while the class specifies how instances are created and how they behave.\n",
    "      \n",
    "Attribute:\n",
    "      Attributes can be broadly categorized into two types: Class attributes and Instance attributes. Class attributes are shared by all the objects of a class while instance attributes are the exclusive property of the instance.Remember, an instance is just another name for the object. Instance attributes are declared inside any method while class attributes are declared outside of any method.\"   \n",
    "\n",
    "Behaviour:\n",
    "     A method is a function that takes a class instance as its first parameter. Methods are members of classes.\n",
    "\n"
   ]
  },
  {
   "cell_type": "code",
   "execution_count": 50,
   "metadata": {},
   "outputs": [
    {
     "name": "stdout",
     "output_type": "stream",
     "text": [
      "this car name is :  Corolla\n",
      "Suzuki\n",
      "Xayz-212\n"
     ]
    }
   ],
   "source": [
    "class Car:\n",
    "    def __init__(self,model,color,name,company,number):\n",
    "        self.model=model\n",
    "        self.color=color\n",
    "        self.name=name\n",
    "        self.company=company\n",
    "        self.number=number\n",
    "        \n",
    "    def print_name(self):\n",
    "        print(\"this car name is : \",self.name)\n",
    "            \n",
    "    def print_UPdatecompany(self):\n",
    "        self.company=\"Suzuki\"\n",
    "        print(self.company)\n",
    "            \n",
    "    def print_number(self):\n",
    "        print(self.number)\n",
    "            \n",
    "car1=Car('2019','Black','Corolla','Toyota','Abx-2132')\n",
    "car2=Car('2018','white','VIGO','Toyota','Xayz-212')\n",
    "car3=Car('2017','Red','land Cruiser','Toyota','cda-132')\n",
    "car4=Car('2016','Blue','Civic','Honda','zzw-32')\n",
    "car5=Car('2015','mate Black','City','Honda','Ax-22')\n",
    "\n",
    "\n",
    "\n",
    "car1.print_name()\n",
    "car2.print_UPdatecompany()\n",
    "car2.print_number()"
   ]
  },
  {
   "cell_type": "code",
   "execution_count": null,
   "metadata": {},
   "outputs": [],
   "source": []
  }
 ],
 "metadata": {
  "kernelspec": {
   "display_name": "Python 3",
   "language": "python",
   "name": "python3"
  },
  "language_info": {
   "codemirror_mode": {
    "name": "ipython",
    "version": 3
   },
   "file_extension": ".py",
   "mimetype": "text/x-python",
   "name": "python",
   "nbconvert_exporter": "python",
   "pygments_lexer": "ipython3",
   "version": "3.7.4"
  }
 },
 "nbformat": 4,
 "nbformat_minor": 2
}
