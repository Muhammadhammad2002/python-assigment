{
 "cells": [
  {
   "cell_type": "code",
   "execution_count": 61,
   "metadata": {},
   "outputs": [
    {
     "name": "stdout",
     "output_type": "stream",
     "text": [
      "below mentioned existing dictionary\n",
      "-----------------------------------------------------------------------------\n",
      "\n",
      "{'first_name': 'muhammad', 'last_name': 'hammad', 'age': '19', 'city': 'karachi'}\n",
      "\n",
      "added new key with value in dictionary from updat function\n",
      "-----------------------------------------------------\n",
      "{'first_name': 'muhammad', 'last_name': 'hammad', 'age': '19', 'city': 'karachi', 'qualification': 'intetrmediate'}\n",
      "\n",
      "updating the value of qualification key in dictionary\n",
      "---------------------------------------------------------\n",
      "\n",
      "currently the value of qualification is intetrmediate\n",
      "\n",
      "\t here is the update dictionary with updated value of qualification.\n",
      "\n",
      "{'first_name': 'muhammad', 'last_name': 'hammad', 'age': '19', 'city': 'karachi', 'qualification': 'BCOM'}\n",
      "\n",
      "\t deleted the key of qualification and below mentioned\n",
      "\n",
      "{'first_name': 'muhammad', 'last_name': 'hammad', 'age': '19', 'city': 'karachi'}\n"
     ]
    }
   ],
   "source": [
    "#question 1\n",
    "person = {\n",
    "    \"first_name\":\"muhammad\",\n",
    "    \"last_name\": \"hammad\",\n",
    "    \"age\":\"19\",\n",
    "    \"city\":\"karachi\"\n",
    "}\n",
    "print(\"below mentioned existing dictionary\\n-----------------------------------------------------------------------------\\n\")\n",
    "print(person)\n",
    "print(\"\\nadded new key with value in dictionary from updat function\\n-----------------------------------------------------\")\n",
    "\n",
    "person.update({\"qualification\":\"intetrmediate\"})\n",
    "print(person)\n",
    "print(\"\\nupdating the value of qualification key in dictionary\\n---------------------------------------------------------\\n\")\n",
    "print(\"currently the value of qualification is \"+ person[\"qualification\"])\n",
    "person[\"qualification\"] = \"BCOM\"\n",
    "print(\"\\n\\t here is the update dictionary with updated value of qualification.\\n\")\n",
    "print(person)\n",
    "del person[\"qualification\"]\n",
    "\n",
    "print(\"\\n\\t deleted the key of qualification and below mentioned\\n\")\n",
    "\n",
    "print (person)"
   ]
  },
  {
   "cell_type": "code",
   "execution_count": 27,
   "metadata": {},
   "outputs": [
    {
     "name": "stdout",
     "output_type": "stream",
     "text": [
      "Name of city is: Karachi\n",
      "Country Name is: pakistan\n",
      "population is :  14.91 million approximate\n",
      "fact of the city is: Karachi is the sixth most populous city in the world\n",
      "============================================================================================================\n",
      "Name of city is: Dubai\n",
      "Country Name is: UAE\n",
      "population is :  3.137 million approximate\n",
      "fact of the city is: Dubai is a city & emirate in the United Arab Emirates known for luxury shopping\n",
      "============================================================================================================\n",
      "Name of city is: Paris\n",
      "Country Name is: France\n",
      "population is :  2.141 million approximate\n",
      "fact of the city is: Paris is a major European city and global center for art,fashion gastronomy and culture\n",
      "============================================================================================================\n"
     ]
    }
   ],
   "source": [
    "#question 2\n",
    "city ={\n",
    "    \"Karachi\" :{\n",
    "        \"country\" : \"pakistan\",\n",
    "        \"population\":\"14.91 million approximate\",\n",
    "        \"fact\": \"Karachi is the sixth most populous city in the world\"\n",
    "    },\n",
    "    \"Dubai\" : {\n",
    "        \"country\" : \"UAE\",\n",
    "        \"population\":\"3.137 million approximate\",\n",
    "        \"fact\": \"Dubai is a city & emirate in the United Arab Emirates known for luxury shopping\"\n",
    "    },\n",
    "    \"Paris\":{\n",
    "        \"country\" : \"France\",\n",
    "        \"population\":\"2.141 million approximate\",\n",
    "        \"fact\":\"Paris is a major European city and global center for art,fashion gastronomy and culture\"\n",
    "    }\n",
    "}\n",
    "\n",
    "for i in city.keys():\n",
    "    print(\"Name of city is:\",i)\n",
    "    print(\"Country Name is:\",city[i][\"country\"])\n",
    "    print(\"population is : \" , city[i][\"population\"])\n",
    "    print(\"fact of the city is:\",city[i][\"fact\"])\n",
    "    print(\"============================================================================================================\")\n",
    "    "
   ]
  },
  {
   "cell_type": "code",
   "execution_count": 25,
   "metadata": {},
   "outputs": [
    {
     "name": "stdout",
     "output_type": "stream",
     "text": [
      "Welcome to the movie theater\n",
      "enter the no. of person:3\n",
      "enter the age of person:2\n",
      "your ticket is free! enjoy your movie\n",
      "enter the age of person:9\n",
      "your ticket price will be 10$\n",
      "enter the age of person:22\n",
      "your ticket price will be 15$\n",
      "total amount =  25 $ enjoy your movie\n"
     ]
    }
   ],
   "source": [
    "#question 3\n",
    "print(\"Welcome to the movie theater\")\n",
    "persons = int(input(\"enter the no. of person:\"))\n",
    "\n",
    "total_price=0\n",
    "\n",
    "for i in range(1,persons+1):\n",
    "    age = int(input(\"enter the age of person:\"))\n",
    "    if age <= 3:\n",
    "        print(\"your ticket is free! enjoy your movie\")\n",
    "    elif age <= 12:\n",
    "        print(\"your ticket price will be 10$\")\n",
    "        total_price +=10\n",
    "    else:\n",
    "        print(\"your ticket price will be 15$\")\n",
    "        total_price +=15\n",
    "        \n",
    "print(\"total amount = \", total_price,\"$ enjoy your movie\")  \n",
    "\n"
   ]
  },
  {
   "cell_type": "code",
   "execution_count": 31,
   "metadata": {},
   "outputs": [
    {
     "name": "stdout",
     "output_type": "stream",
     "text": [
      "enter the book title:harry potter and the cursed child\n",
      "one of my favorite book is  harry potter and the cursed child\n"
     ]
    }
   ],
   "source": [
    "#question 4\n",
    "def favorite_book(book_name):\n",
    "    print(\"one of my favorite book is \",book_name)\n",
    "    \n",
    "title=input(\"enter the book title:\")\n",
    "\n",
    "favorite_book(title)"
   ]
  },
  {
   "cell_type": "code",
   "execution_count": 40,
   "metadata": {},
   "outputs": [
    {
     "name": "stdout",
     "output_type": "stream",
     "text": [
      "guess the number between 1 to 30 : 5\n",
      "your guess is too low\n",
      "guess the number between 1 to 30 : 25\n",
      "your guess is too high\n",
      "guess the number between 1 to 30 : 20\n",
      "your guess is too high\n",
      "you loose\n",
      "correct number is 17\n"
     ]
    }
   ],
   "source": [
    "#question 5\n",
    "import random\n",
    "\n",
    "random_number = random.randint(1,30)\n",
    "\n",
    "flag = False\n",
    "\n",
    "for i in range(0,3):\n",
    "    guess = int(input(\"guess the number between 1 to 30 : \"))\n",
    "    if guess == random_number:\n",
    "        flag = True\n",
    "        break\n",
    "    elif guess < random_number:\n",
    "        print(\"your guess is too low\")\n",
    "    else:\n",
    "        print(\"your guess is too high\")\n",
    "        \n",
    "if flag:\n",
    "    print(\"congratulation you win!!\")\n",
    "else:\n",
    "    print(\"you loose\")\n",
    "    print(\"correct number is\",random_number)"
   ]
  },
  {
   "cell_type": "code",
   "execution_count": null,
   "metadata": {},
   "outputs": [],
   "source": [
    "\n"
   ]
  },
  {
   "cell_type": "code",
   "execution_count": null,
   "metadata": {},
   "outputs": [],
   "source": []
  }
 ],
 "metadata": {
  "kernelspec": {
   "display_name": "Python 3",
   "language": "python",
   "name": "python3"
  },
  "language_info": {
   "codemirror_mode": {
    "name": "ipython",
    "version": 3
   },
   "file_extension": ".py",
   "mimetype": "text/x-python",
   "name": "python",
   "nbconvert_exporter": "python",
   "pygments_lexer": "ipython3",
   "version": "3.7.4"
  }
 },
 "nbformat": 4,
 "nbformat_minor": 2
}
